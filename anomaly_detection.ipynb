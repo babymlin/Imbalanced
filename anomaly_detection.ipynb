{
  "nbformat": 4,
  "nbformat_minor": 0,
  "metadata": {
    "kernelspec": {
      "name": "python3",
      "display_name": "Python 3"
    },
    "language_info": {
      "codemirror_mode": {
        "name": "ipython",
        "version": 3
      },
      "file_extension": ".py",
      "mimetype": "text/x-python",
      "name": "python",
      "nbconvert_exporter": "python",
      "pygments_lexer": "ipython3",
      "version": "3.6.6"
    },
    "colab": {
      "name": "01_anomaly_detection.ipynb",
      "provenance": [],
      "collapsed_sections": [],
      "include_colab_link": true
    },
    "accelerator": "GPU"
  },
  "cells": [
    {
      "cell_type": "markdown",
      "metadata": {
        "id": "view-in-github",
        "colab_type": "text"
      },
      "source": [
        "<a href=\"https://colab.research.google.com/github/babymlin/Imbalanced/blob/main/anomaly_detection.ipynb\" target=\"_parent\"><img src=\"https://colab.research.google.com/assets/colab-badge.svg\" alt=\"Open In Colab\"/></a>"
      ]
    },
    {
      "cell_type": "code",
      "metadata": {
        "id": "MMM8YSC79d5b"
      },
      "source": [
        "from tensorflow import keras\n",
        "from tensorflow.keras import datasets\n",
        "from tensorflow.keras.layers import *\n",
        "from tensorflow.keras.models import *\n",
        "import matplotlib.pyplot as plt\n",
        "import numpy as np"
      ],
      "execution_count": 1,
      "outputs": []
    },
    {
      "cell_type": "code",
      "metadata": {
        "id": "H4GfoeWo9d5i",
        "colab": {
          "base_uri": "https://localhost:8080/"
        },
        "outputId": "994fb59b-1ceb-4149-e542-be13c6602b93"
      },
      "source": [
        "(x_train, y_train), (x_test, y_test) = keras.datasets.mnist.load_data()"
      ],
      "execution_count": 2,
      "outputs": [
        {
          "output_type": "stream",
          "text": [
            "Downloading data from https://storage.googleapis.com/tensorflow/tf-keras-datasets/mnist.npz\n",
            "11493376/11490434 [==============================] - 0s 0us/step\n"
          ],
          "name": "stdout"
        }
      ]
    },
    {
      "cell_type": "code",
      "metadata": {
        "id": "GsW1Dxjv9d5m",
        "colab": {
          "base_uri": "https://localhost:8080/"
        },
        "outputId": "d4d68791-a88f-4a1d-e4e3-7f620bfda341"
      },
      "source": [
        "x_train.shape, y_train.shape, x_test.shape, y_test.shape"
      ],
      "execution_count": 3,
      "outputs": [
        {
          "output_type": "execute_result",
          "data": {
            "text/plain": [
              "((60000, 28, 28), (60000,), (10000, 28, 28), (10000,))"
            ]
          },
          "metadata": {
            "tags": []
          },
          "execution_count": 3
        }
      ]
    },
    {
      "cell_type": "code",
      "metadata": {
        "id": "G0IA_c909d5s"
      },
      "source": [
        "normal_no = 1\n",
        "abnormal_no = 7\n",
        "\n",
        "x_normal = x_train[y_train == normal_no]\n",
        "x_test_normal = x_test[y_test == normal_no]\n",
        "x_abnormal = np.concatenate((x_train[y_train == abnormal_no], x_test[y_test == abnormal_no]))\n",
        "\n",
        "x_normal = np.expand_dims(x_normal, axis=-1)\n",
        "x_test_normal = np.expand_dims(x_test_normal, axis=-1)\n",
        "x_abnormal = np.expand_dims(x_abnormal, axis=-1)\n",
        "\n",
        "# For Dense autoencoder\n",
        "# x_normal = x_normal.reshape((x_normal.shape[0], -1))\n",
        "# x_test_normal = x_test_normal.reshape((x_test_normal.shape[0], -1))\n",
        "# x_abnormal = x_abnormal.reshape((x_abnormal.shape[0], -1))"
      ],
      "execution_count": 4,
      "outputs": []
    },
    {
      "cell_type": "code",
      "metadata": {
        "id": "n-sXcPRv9d5w",
        "colab": {
          "base_uri": "https://localhost:8080/"
        },
        "outputId": "5abb17f8-dba2-439e-ebb4-1c195219f8c1"
      },
      "source": [
        "x_normal.shape, x_test_normal.shape , x_abnormal.shape"
      ],
      "execution_count": 5,
      "outputs": [
        {
          "output_type": "execute_result",
          "data": {
            "text/plain": [
              "((6742, 28, 28, 1), (1135, 28, 28, 1), (7293, 28, 28, 1))"
            ]
          },
          "metadata": {
            "tags": []
          },
          "execution_count": 5
        }
      ]
    },
    {
      "cell_type": "code",
      "metadata": {
        "id": "cAiVCcsA9d50"
      },
      "source": [
        "x_normal = x_normal / 255.\n",
        "x_test_normal = x_test_normal / 255.\n",
        "x_abnormal = x_abnormal / 255."
      ],
      "execution_count": 6,
      "outputs": []
    },
    {
      "cell_type": "code",
      "metadata": {
        "id": "ws4KAIJ39d56",
        "colab": {
          "base_uri": "https://localhost:8080/"
        },
        "outputId": "833a8569-89c3-4363-b093-a549c7bec652"
      },
      "source": [
        "# Model1: Unet with Conv2DTranspose\n",
        "activation = 'selu'\n",
        "input_layer = Input(shape=(28, 28, 1))\n",
        "l = Conv2D(filters=8, kernel_size=(3,3), activation=activation, padding='same')(input_layer)\n",
        "c1 = Conv2D(filters=8, kernel_size=(3,3), activation=activation, padding='same')(l)\n",
        "l = MaxPool2D(strides=(2,2))(l)\n",
        "l = Conv2D(filters=16, kernel_size=(3,3), activation=activation, padding='same')(l)\n",
        "c2 = Conv2D(filters=16, kernel_size=(3,3), activation=activation, padding='same')(l)\n",
        "l = MaxPool2D(strides=(2,2))(c2)\n",
        "c3 = Conv2D(filters=32, kernel_size=(3,3), activation=activation, padding='same')(l)\n",
        "l = concatenate([Conv2DTranspose(32, (2, 2), strides=(2, 2), padding='same')(c3), c2], axis=-1)\n",
        "l = Conv2D(filters=32, kernel_size=(2,2), activation=activation, padding='same')(l)\n",
        "l = concatenate([Conv2DTranspose(32, (2, 2), strides=(2, 2), padding='same')(l), c1], axis=-1)\n",
        "l = Conv2D(filters=16, kernel_size=(2,2), activation=activation, padding='same')(l)\n",
        "l = Conv2D(filters=64, kernel_size=(1,1), activation=activation)(l)\n",
        "output_layer = Conv2D(filters=1, kernel_size=(1,1), activation='sigmoid')(l)\n",
        "                                                         \n",
        "model = Model(input_layer, output_layer)\n",
        "model.summary()"
      ],
      "execution_count": 7,
      "outputs": [
        {
          "output_type": "stream",
          "text": [
            "Model: \"model\"\n",
            "__________________________________________________________________________________________________\n",
            "Layer (type)                    Output Shape         Param #     Connected to                     \n",
            "==================================================================================================\n",
            "input_1 (InputLayer)            [(None, 28, 28, 1)]  0                                            \n",
            "__________________________________________________________________________________________________\n",
            "conv2d (Conv2D)                 (None, 28, 28, 8)    80          input_1[0][0]                    \n",
            "__________________________________________________________________________________________________\n",
            "max_pooling2d (MaxPooling2D)    (None, 14, 14, 8)    0           conv2d[0][0]                     \n",
            "__________________________________________________________________________________________________\n",
            "conv2d_2 (Conv2D)               (None, 14, 14, 16)   1168        max_pooling2d[0][0]              \n",
            "__________________________________________________________________________________________________\n",
            "conv2d_3 (Conv2D)               (None, 14, 14, 16)   2320        conv2d_2[0][0]                   \n",
            "__________________________________________________________________________________________________\n",
            "max_pooling2d_1 (MaxPooling2D)  (None, 7, 7, 16)     0           conv2d_3[0][0]                   \n",
            "__________________________________________________________________________________________________\n",
            "conv2d_4 (Conv2D)               (None, 7, 7, 32)     4640        max_pooling2d_1[0][0]            \n",
            "__________________________________________________________________________________________________\n",
            "conv2d_transpose (Conv2DTranspo (None, 14, 14, 32)   4128        conv2d_4[0][0]                   \n",
            "__________________________________________________________________________________________________\n",
            "concatenate (Concatenate)       (None, 14, 14, 48)   0           conv2d_transpose[0][0]           \n",
            "                                                                 conv2d_3[0][0]                   \n",
            "__________________________________________________________________________________________________\n",
            "conv2d_5 (Conv2D)               (None, 14, 14, 32)   6176        concatenate[0][0]                \n",
            "__________________________________________________________________________________________________\n",
            "conv2d_transpose_1 (Conv2DTrans (None, 28, 28, 32)   4128        conv2d_5[0][0]                   \n",
            "__________________________________________________________________________________________________\n",
            "conv2d_1 (Conv2D)               (None, 28, 28, 8)    584         conv2d[0][0]                     \n",
            "__________________________________________________________________________________________________\n",
            "concatenate_1 (Concatenate)     (None, 28, 28, 40)   0           conv2d_transpose_1[0][0]         \n",
            "                                                                 conv2d_1[0][0]                   \n",
            "__________________________________________________________________________________________________\n",
            "conv2d_6 (Conv2D)               (None, 28, 28, 16)   2576        concatenate_1[0][0]              \n",
            "__________________________________________________________________________________________________\n",
            "conv2d_7 (Conv2D)               (None, 28, 28, 64)   1088        conv2d_6[0][0]                   \n",
            "__________________________________________________________________________________________________\n",
            "conv2d_8 (Conv2D)               (None, 28, 28, 1)    65          conv2d_7[0][0]                   \n",
            "==================================================================================================\n",
            "Total params: 26,953\n",
            "Trainable params: 26,953\n",
            "Non-trainable params: 0\n",
            "__________________________________________________________________________________________________\n"
          ],
          "name": "stdout"
        }
      ]
    },
    {
      "cell_type": "code",
      "metadata": {
        "id": "m0mpH_WCIHw_"
      },
      "source": [
        "# Model2: Unet with Conv2DTranspose\n",
        "activation = 'tanh'\n",
        "input_layer = Input(shape=(28, 28, 1))\n",
        "l = Conv2D(filters=16, kernel_size=(3,3), activation=activation, padding='same')(input_layer)\n",
        "c1 = Conv2D(filters=16, kernel_size=(3,3), activation=activation, padding='same')(l)\n",
        "l = MaxPool2D(strides=(2,2))(l)\n",
        "l = Conv2D(filters=32, kernel_size=(3,3), activation=activation, padding='same')(l)\n",
        "c2 = Conv2D(filters=32, kernel_size=(3,3), activation=activation, padding='same')(l)\n",
        "l = MaxPool2D(strides=(2,2))(c2)\n",
        "c3 = Conv2D(filters=64, kernel_size=(3,3), activation=activation, padding='same')(l)\n",
        "l = Conv2DTranspose(64, (2, 2), strides=(2, 2), padding='same')(c3)\n",
        "l = Conv2D(filters=64, kernel_size=(2,2), activation=activation, padding='same')(l)\n",
        "l = Conv2DTranspose(64, (2, 2), strides=(2, 2), padding='same')(l)\n",
        "l = Conv2D(filters=64, kernel_size=(2,2), activation=activation, padding='same')(l)\n",
        "l = Conv2D(filters=128, kernel_size=(1,1), activation=activation)(l)\n",
        "output_layer = Conv2D(filters=1, kernel_size=(1,1), activation='sigmoid')(l)\n",
        "                                                         \n",
        "model = Model(input_layer, output_layer)\n",
        "# model.summary()"
      ],
      "execution_count": 8,
      "outputs": []
    },
    {
      "cell_type": "code",
      "metadata": {
        "id": "vzp8UUy-_YOp",
        "colab": {
          "base_uri": "https://localhost:8080/",
          "height": 1000
        },
        "outputId": "594bfad0-f2a5-46ef-9d9e-9048f252ac06"
      },
      "source": [
        "keras.utils.plot_model(model)"
      ],
      "execution_count": 9,
      "outputs": [
        {
          "output_type": "execute_result",
          "data": {
            "image/png": "[encoded data removed]",
            "text/plain": [
              "<IPython.core.display.Image object>"
            ]
          },
          "metadata": {
            "tags": []
          },
          "execution_count": 9
        }
      ]
    },
    {
      "cell_type": "code",
      "metadata": {
        "id": "0eN9jh9j9d5_"
      },
      "source": [
        "# # Model 2: Dense encoder\n",
        "# inputs = Input((784,))\n",
        "# x = Dense(100, activation='tanh')(inputs)\n",
        "# x = Dense(50, activation='tanh')(x)\n",
        "# x = Dense(25, activation='tanh')(x)\n",
        "# x = Dense(50, activation='tanh')(x)\n",
        "# x = Dense(100, activation='tanh')(x)\n",
        "# x = Dense(784, activation='sigmoid')(x)\n",
        "# model = Model(inputs, x)\n",
        "# model.summary()"
      ],
      "execution_count": 10,
      "outputs": []
    },
    {
      "cell_type": "code",
      "metadata": {
        "id": "GIXCuFMz9d6C"
      },
      "source": [
        ""
      ],
      "execution_count": 10,
      "outputs": []
    },
    {
      "cell_type": "code",
      "metadata": {
        "id": "jGcCDp1G9d6F"
      },
      "source": [
        "model.compile(optimizer= keras.optimizers.Adam(learning_rate=1e-4), loss='mse')"
      ],
      "execution_count": 11,
      "outputs": []
    },
    {
      "cell_type": "code",
      "metadata": {
        "id": "tbhP2zWG9d6L",
        "colab": {
          "base_uri": "https://localhost:8080/"
        },
        "outputId": "90d08eca-1fa1-4a60-a7b5-b984bba57162"
      },
      "source": [
        "h = model.fit(x_normal, x_normal, batch_size=128, epochs=50)"
      ],
      "execution_count": 12,
      "outputs": [
        {
          "output_type": "stream",
          "text": [
            "Epoch 1/50\n",
            "53/53 [==============================] - 33s 27ms/step - loss: 0.1759\n",
            "Epoch 2/50\n",
            "53/53 [==============================] - 1s 20ms/step - loss: 0.0699\n",
            "Epoch 3/50\n",
            "53/53 [==============================] - 1s 20ms/step - loss: 0.0659\n",
            "Epoch 4/50\n",
            "53/53 [==============================] - 1s 20ms/step - loss: 0.0656\n",
            "Epoch 5/50\n",
            "53/53 [==============================] - 1s 20ms/step - loss: 0.0655\n",
            "Epoch 6/50\n",
            "53/53 [==============================] - 1s 20ms/step - loss: 0.0655\n",
            "Epoch 7/50\n",
            "53/53 [==============================] - 1s 20ms/step - loss: 0.0655\n",
            "Epoch 8/50\n",
            "53/53 [==============================] - 1s 20ms/step - loss: 0.0654\n",
            "Epoch 9/50\n",
            "53/53 [==============================] - 1s 21ms/step - loss: 0.0654\n",
            "Epoch 10/50\n",
            "53/53 [==============================] - 1s 20ms/step - loss: 0.0654\n",
            "Epoch 11/50\n",
            "53/53 [==============================] - 1s 20ms/step - loss: 0.0654\n",
            "Epoch 12/50\n",
            "53/53 [==============================] - 1s 20ms/step - loss: 0.0653\n",
            "Epoch 13/50\n",
            "53/53 [==============================] - 1s 20ms/step - loss: 0.0653\n",
            "Epoch 14/50\n",
            "53/53 [==============================] - 1s 20ms/step - loss: 0.0648\n",
            "Epoch 15/50\n",
            "53/53 [==============================] - 1s 20ms/step - loss: 0.0595\n",
            "Epoch 16/50\n",
            "53/53 [==============================] - 1s 20ms/step - loss: 0.0473\n",
            "Epoch 17/50\n",
            "53/53 [==============================] - 1s 20ms/step - loss: 0.0131\n",
            "Epoch 18/50\n",
            "53/53 [==============================] - 1s 20ms/step - loss: 0.0060\n",
            "Epoch 19/50\n",
            "53/53 [==============================] - 1s 20ms/step - loss: 0.0045\n",
            "Epoch 20/50\n",
            "53/53 [==============================] - 1s 20ms/step - loss: 0.0038\n",
            "Epoch 21/50\n",
            "53/53 [==============================] - 1s 20ms/step - loss: 0.0034\n",
            "Epoch 22/50\n",
            "53/53 [==============================] - 1s 20ms/step - loss: 0.0031\n",
            "Epoch 23/50\n",
            "53/53 [==============================] - 1s 20ms/step - loss: 0.0028\n",
            "Epoch 24/50\n",
            "53/53 [==============================] - 1s 20ms/step - loss: 0.0026\n",
            "Epoch 25/50\n",
            "53/53 [==============================] - 1s 20ms/step - loss: 0.0025\n",
            "Epoch 26/50\n",
            "53/53 [==============================] - 1s 20ms/step - loss: 0.0024\n",
            "Epoch 27/50\n",
            "53/53 [==============================] - 1s 20ms/step - loss: 0.0023\n",
            "Epoch 28/50\n",
            "53/53 [==============================] - 1s 20ms/step - loss: 0.0022\n",
            "Epoch 29/50\n",
            "53/53 [==============================] - 1s 20ms/step - loss: 0.0021\n",
            "Epoch 30/50\n",
            "53/53 [==============================] - 1s 20ms/step - loss: 0.0020\n",
            "Epoch 31/50\n",
            "53/53 [==============================] - 1s 20ms/step - loss: 0.0019\n",
            "Epoch 32/50\n",
            "53/53 [==============================] - 1s 20ms/step - loss: 0.0019\n",
            "Epoch 33/50\n",
            "53/53 [==============================] - 1s 20ms/step - loss: 0.0018\n",
            "Epoch 34/50\n",
            "53/53 [==============================] - 1s 20ms/step - loss: 0.0018\n",
            "Epoch 35/50\n",
            "53/53 [==============================] - 1s 20ms/step - loss: 0.0018\n",
            "Epoch 36/50\n",
            "53/53 [==============================] - 1s 21ms/step - loss: 0.0017\n",
            "Epoch 37/50\n",
            "53/53 [==============================] - 1s 20ms/step - loss: 0.0017\n",
            "Epoch 38/50\n",
            "53/53 [==============================] - 1s 20ms/step - loss: 0.0017\n",
            "Epoch 39/50\n",
            "53/53 [==============================] - 1s 21ms/step - loss: 0.0016\n",
            "Epoch 40/50\n",
            "53/53 [==============================] - 1s 20ms/step - loss: 0.0016\n",
            "Epoch 41/50\n",
            "53/53 [==============================] - 1s 21ms/step - loss: 0.0016\n",
            "Epoch 42/50\n",
            "53/53 [==============================] - 1s 20ms/step - loss: 0.0016\n",
            "Epoch 43/50\n",
            "53/53 [==============================] - 1s 21ms/step - loss: 0.0015\n",
            "Epoch 44/50\n",
            "53/53 [==============================] - 1s 20ms/step - loss: 0.0015\n",
            "Epoch 45/50\n",
            "53/53 [==============================] - 1s 21ms/step - loss: 0.0015\n",
            "Epoch 46/50\n",
            "53/53 [==============================] - 1s 21ms/step - loss: 0.0015\n",
            "Epoch 47/50\n",
            "53/53 [==============================] - 1s 21ms/step - loss: 0.0015\n",
            "Epoch 48/50\n",
            "53/53 [==============================] - 1s 21ms/step - loss: 0.0014\n",
            "Epoch 49/50\n",
            "53/53 [==============================] - 1s 21ms/step - loss: 0.0014\n",
            "Epoch 50/50\n",
            "53/53 [==============================] - 1s 21ms/step - loss: 0.0014\n"
          ],
          "name": "stdout"
        }
      ]
    },
    {
      "cell_type": "code",
      "metadata": {
        "id": "AU0_3C-e9d6P"
      },
      "source": [
        "pred_normal = model.predict(x_test_normal)\n",
        "pred_abnormal = model.predict(x_abnormal)\n",
        "pred_train = model.predict(x_normal)"
      ],
      "execution_count": 13,
      "outputs": []
    },
    {
      "cell_type": "code",
      "metadata": {
        "id": "gLxLbQRB9d6T",
        "colab": {
          "base_uri": "https://localhost:8080/"
        },
        "outputId": "5746c3c1-2985-4ef2-cb0d-ea014e1dbb27"
      },
      "source": [
        "pred_normal.shape, pred_abnormal.shape, pred_train.shape"
      ],
      "execution_count": 14,
      "outputs": [
        {
          "output_type": "execute_result",
          "data": {
            "text/plain": [
              "((1135, 28, 28, 1), (7293, 28, 28, 1), (6742, 28, 28, 1))"
            ]
          },
          "metadata": {
            "tags": []
          },
          "execution_count": 14
        }
      ]
    },
    {
      "cell_type": "code",
      "metadata": {
        "id": "N1RgbZ1A9d6Z"
      },
      "source": [
        "def mse(x, y):\n",
        "    return (np.square(x - y)).mean(axis=(1,2,3))"
      ],
      "execution_count": 15,
      "outputs": []
    },
    {
      "cell_type": "code",
      "metadata": {
        "id": "5dSMSIkF9d6d"
      },
      "source": [
        "error_normal = mse(pred_normal, x_test_normal)\n",
        "error_abnormal = mse(pred_abnormal, x_abnormal)\n",
        "error_train_normal = mse(pred_train, x_normal)"
      ],
      "execution_count": 16,
      "outputs": []
    },
    {
      "cell_type": "code",
      "metadata": {
        "id": "IqnHxxwZ9d6h",
        "colab": {
          "base_uri": "https://localhost:8080/"
        },
        "outputId": "bdcfcd9a-37cb-46b7-944c-efc7a9999a0f"
      },
      "source": [
        "error_normal.shape, error_abnormal.shape, error_train_normal.shape"
      ],
      "execution_count": 17,
      "outputs": [
        {
          "output_type": "execute_result",
          "data": {
            "text/plain": [
              "((1135,), (7293,), (6742,))"
            ]
          },
          "metadata": {
            "tags": []
          },
          "execution_count": 17
        }
      ]
    },
    {
      "cell_type": "code",
      "metadata": {
        "id": "8iqdTyVN9d6k",
        "colab": {
          "base_uri": "https://localhost:8080/"
        },
        "outputId": "3d009373-7ec8-436a-e949-31cc1565a39a"
      },
      "source": [
        "np.mean(error_normal), np.mean(error_abnormal), np.mean(error_train_normal)"
      ],
      "execution_count": 18,
      "outputs": [
        {
          "output_type": "execute_result",
          "data": {
            "text/plain": [
              "(0.0013184586402862064, 0.00859252463756417, 0.0013793434869933622)"
            ]
          },
          "metadata": {
            "tags": []
          },
          "execution_count": 18
        }
      ]
    },
    {
      "cell_type": "code",
      "metadata": {
        "id": "_nb3OAPb9d6n",
        "colab": {
          "base_uri": "https://localhost:8080/",
          "height": 592
        },
        "outputId": "496bd8e4-6779-4001-a7fc-2735eda2e598"
      },
      "source": [
        "plt.figure(figsize=(10,10))\n",
        "plt.hist(error_train_normal, bins=100, alpha=0.5) # Blue\n",
        "plt.hist(error_normal, bins=100, alpha=0.5) # Orange\n",
        "plt.hist(error_abnormal, bins=100, alpha=0.5) # Green\n",
        "plt.legend(['Normal_train', 'Normal_val', 'Abnormal_val'])\n",
        "plt.show()"
      ],
      "execution_count": 19,
      "outputs": [
        {
          "output_type": "display_data",
          "data": {
            "image/png": "[encoded data removed]",
            "text/plain": [
              "<Figure size 720x720 with 1 Axes>"
            ]
          },
          "metadata": {
            "tags": [],
            "needs_background": "light"
          }
        }
      ]
    },
    {
      "cell_type": "code",
      "metadata": {
        "id": "4UAmFMz8HDeE"
      },
      "source": [
        ""
      ],
      "execution_count": 19,
      "outputs": []
    }
  ]
}